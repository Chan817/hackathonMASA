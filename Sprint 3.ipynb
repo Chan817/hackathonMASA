{
 "cells": [
  {
   "cell_type": "code",
   "execution_count": 1,
   "id": "c1121de8",
   "metadata": {},
   "outputs": [],
   "source": [
    "import pandas as pd"
   ]
  },
  {
   "cell_type": "code",
   "execution_count": 2,
   "id": "702038cf",
   "metadata": {},
   "outputs": [],
   "source": [
    "import numpy as np"
   ]
  },
  {
   "cell_type": "code",
   "execution_count": 3,
   "id": "b58fa414",
   "metadata": {},
   "outputs": [],
   "source": [
    "a = pd.read_excel('[MASA Hackathon 2022]TravelInsuranceDataSet.xlsx')"
   ]
  },
  {
   "cell_type": "code",
   "execution_count": 4,
   "id": "917aa9ca",
   "metadata": {},
   "outputs": [
    {
     "name": "stdout",
     "output_type": "stream",
     "text": [
      "  Agency    Agency Type Distribution Channel                     Product Name  \\\n",
      "0    CBH  Travel Agency              Offline               Comprehensive Plan   \n",
      "1    CBH  Travel Agency              Offline               Comprehensive Plan   \n",
      "2    CWT  Travel Agency               Online  Rental Vehicle Excess Insurance   \n",
      "3    CWT  Travel Agency               Online  Rental Vehicle Excess Insurance   \n",
      "4    CWT  Travel Agency               Online  Rental Vehicle Excess Insurance   \n",
      "\n",
      "  Claim  Duration Destination  Net Sales  Commision (in value) Gender  Age  \n",
      "0    No       186    MALAYSIA      -29.0                  9.57      F   81  \n",
      "1    No       186    MALAYSIA      -29.0                  9.57      F   71  \n",
      "2    No        65   AUSTRALIA      -49.5                 29.70    NaN   32  \n",
      "3    No        60   AUSTRALIA      -39.6                 23.76    NaN   32  \n",
      "4    No        79       ITALY      -19.8                 11.88    NaN   41  \n"
     ]
    }
   ],
   "source": [
    "print(a.head())"
   ]
  },
  {
   "cell_type": "code",
   "execution_count": 5,
   "id": "f745a804",
   "metadata": {},
   "outputs": [
    {
     "name": "stdout",
     "output_type": "stream",
     "text": [
      "<class 'pandas.core.frame.DataFrame'>\n",
      "RangeIndex: 63326 entries, 0 to 63325\n",
      "Data columns (total 11 columns):\n",
      " #   Column                Non-Null Count  Dtype  \n",
      "---  ------                --------------  -----  \n",
      " 0   Agency                63326 non-null  object \n",
      " 1   Agency Type           63326 non-null  object \n",
      " 2   Distribution Channel  63326 non-null  object \n",
      " 3   Product Name          63326 non-null  object \n",
      " 4   Claim                 63326 non-null  object \n",
      " 5   Duration              63326 non-null  int64  \n",
      " 6   Destination           63326 non-null  object \n",
      " 7   Net Sales             63326 non-null  float64\n",
      " 8   Commision (in value)  63326 non-null  float64\n",
      " 9   Gender                18219 non-null  object \n",
      " 10  Age                   63326 non-null  int64  \n",
      "dtypes: float64(2), int64(2), object(7)\n",
      "memory usage: 5.3+ MB\n"
     ]
    }
   ],
   "source": [
    "a.info()"
   ]
  },
  {
   "cell_type": "code",
   "execution_count": 6,
   "id": "c9e170fc",
   "metadata": {
    "scrolled": true
   },
   "outputs": [
    {
     "name": "stdout",
     "output_type": "stream",
     "text": [
      "<class 'pandas.core.frame.DataFrame'>\n",
      "RangeIndex: 63326 entries, 0 to 63325\n",
      "Data columns (total 11 columns):\n",
      " #   Column                Non-Null Count  Dtype  \n",
      "---  ------                --------------  -----  \n",
      " 0   Agency                63326 non-null  object \n",
      " 1   Agency Type           63326 non-null  object \n",
      " 2   Distribution Channel  63326 non-null  object \n",
      " 3   Product Name          63326 non-null  object \n",
      " 4   Claim                 63326 non-null  object \n",
      " 5   Duration              63326 non-null  int64  \n",
      " 6   Destination           63326 non-null  object \n",
      " 7   Net Sales             63326 non-null  float64\n",
      " 8   Commision (in value)  63326 non-null  float64\n",
      " 9   Gender                63326 non-null  object \n",
      " 10  Age                   63326 non-null  int64  \n",
      "dtypes: float64(2), int64(2), object(7)\n",
      "memory usage: 5.3+ MB\n"
     ]
    }
   ],
   "source": [
    "updated_a = a\n",
    "updated_a['Gender']=updated_a['Gender'].fillna('Prefer not to say')\n",
    "updated_a.info()"
   ]
  },
  {
   "cell_type": "code",
   "execution_count": 7,
   "id": "26a9ac39",
   "metadata": {},
   "outputs": [
    {
     "name": "stdout",
     "output_type": "stream",
     "text": [
      "  Agency    Agency Type Distribution Channel                     Product Name  \\\n",
      "0    CBH  Travel Agency              Offline               Comprehensive Plan   \n",
      "1    CBH  Travel Agency              Offline               Comprehensive Plan   \n",
      "2    CWT  Travel Agency               Online  Rental Vehicle Excess Insurance   \n",
      "3    CWT  Travel Agency               Online  Rental Vehicle Excess Insurance   \n",
      "4    CWT  Travel Agency               Online  Rental Vehicle Excess Insurance   \n",
      "\n",
      "  Claim  Duration Destination  Net Sales  Commision (in value)  \\\n",
      "0    No       186    MALAYSIA      -29.0                  9.57   \n",
      "1    No       186    MALAYSIA      -29.0                  9.57   \n",
      "2    No        65   AUSTRALIA      -49.5                 29.70   \n",
      "3    No        60   AUSTRALIA      -39.6                 23.76   \n",
      "4    No        79       ITALY      -19.8                 11.88   \n",
      "\n",
      "              Gender  Age  \n",
      "0                  F   81  \n",
      "1                  F   71  \n",
      "2  Prefer not to say   32  \n",
      "3  Prefer not to say   32  \n",
      "4  Prefer not to say   41  \n"
     ]
    }
   ],
   "source": [
    "print(updated_a.head())"
   ]
  },
  {
   "cell_type": "code",
   "execution_count": 8,
   "id": "d44c149f",
   "metadata": {},
   "outputs": [],
   "source": [
    "updated_a.to_excel(r'C:\\Users\\Asus\\abc2.xlsx', index = False)"
   ]
  },
  {
   "cell_type": "code",
   "execution_count": 9,
   "id": "5ae39c3d",
   "metadata": {},
   "outputs": [
    {
     "data": {
      "text/html": [
       "<div>\n",
       "<style scoped>\n",
       "    .dataframe tbody tr th:only-of-type {\n",
       "        vertical-align: middle;\n",
       "    }\n",
       "\n",
       "    .dataframe tbody tr th {\n",
       "        vertical-align: top;\n",
       "    }\n",
       "\n",
       "    .dataframe thead th {\n",
       "        text-align: right;\n",
       "    }\n",
       "</style>\n",
       "<table border=\"1\" class=\"dataframe\">\n",
       "  <thead>\n",
       "    <tr style=\"text-align: right;\">\n",
       "      <th></th>\n",
       "      <th>Agency</th>\n",
       "      <th>Agency Type</th>\n",
       "      <th>Distribution Channel</th>\n",
       "      <th>Product Name</th>\n",
       "      <th>Claim</th>\n",
       "      <th>Duration</th>\n",
       "      <th>Destination</th>\n",
       "      <th>Net Sales</th>\n",
       "      <th>Commision (in value)</th>\n",
       "      <th>Gender</th>\n",
       "      <th>Age</th>\n",
       "    </tr>\n",
       "  </thead>\n",
       "  <tbody>\n",
       "    <tr>\n",
       "      <th>0</th>\n",
       "      <td>CBH</td>\n",
       "      <td>Travel Agency</td>\n",
       "      <td>Offline</td>\n",
       "      <td>Comprehensive Plan</td>\n",
       "      <td>No</td>\n",
       "      <td>186</td>\n",
       "      <td>MALAYSIA</td>\n",
       "      <td>-29.0</td>\n",
       "      <td>9.57</td>\n",
       "      <td>F</td>\n",
       "      <td>81</td>\n",
       "    </tr>\n",
       "    <tr>\n",
       "      <th>1</th>\n",
       "      <td>CBH</td>\n",
       "      <td>Travel Agency</td>\n",
       "      <td>Offline</td>\n",
       "      <td>Comprehensive Plan</td>\n",
       "      <td>No</td>\n",
       "      <td>186</td>\n",
       "      <td>MALAYSIA</td>\n",
       "      <td>-29.0</td>\n",
       "      <td>9.57</td>\n",
       "      <td>F</td>\n",
       "      <td>71</td>\n",
       "    </tr>\n",
       "    <tr>\n",
       "      <th>2</th>\n",
       "      <td>CWT</td>\n",
       "      <td>Travel Agency</td>\n",
       "      <td>Online</td>\n",
       "      <td>Rental Vehicle Excess Insurance</td>\n",
       "      <td>No</td>\n",
       "      <td>65</td>\n",
       "      <td>AUSTRALIA</td>\n",
       "      <td>-49.5</td>\n",
       "      <td>29.70</td>\n",
       "      <td>Prefer not to say</td>\n",
       "      <td>32</td>\n",
       "    </tr>\n",
       "    <tr>\n",
       "      <th>3</th>\n",
       "      <td>CWT</td>\n",
       "      <td>Travel Agency</td>\n",
       "      <td>Online</td>\n",
       "      <td>Rental Vehicle Excess Insurance</td>\n",
       "      <td>No</td>\n",
       "      <td>60</td>\n",
       "      <td>AUSTRALIA</td>\n",
       "      <td>-39.6</td>\n",
       "      <td>23.76</td>\n",
       "      <td>Prefer not to say</td>\n",
       "      <td>32</td>\n",
       "    </tr>\n",
       "    <tr>\n",
       "      <th>4</th>\n",
       "      <td>CWT</td>\n",
       "      <td>Travel Agency</td>\n",
       "      <td>Online</td>\n",
       "      <td>Rental Vehicle Excess Insurance</td>\n",
       "      <td>No</td>\n",
       "      <td>79</td>\n",
       "      <td>ITALY</td>\n",
       "      <td>-19.8</td>\n",
       "      <td>11.88</td>\n",
       "      <td>Prefer not to say</td>\n",
       "      <td>41</td>\n",
       "    </tr>\n",
       "  </tbody>\n",
       "</table>\n",
       "</div>"
      ],
      "text/plain": [
       "  Agency    Agency Type Distribution Channel                     Product Name  \\\n",
       "0    CBH  Travel Agency              Offline               Comprehensive Plan   \n",
       "1    CBH  Travel Agency              Offline               Comprehensive Plan   \n",
       "2    CWT  Travel Agency               Online  Rental Vehicle Excess Insurance   \n",
       "3    CWT  Travel Agency               Online  Rental Vehicle Excess Insurance   \n",
       "4    CWT  Travel Agency               Online  Rental Vehicle Excess Insurance   \n",
       "\n",
       "  Claim  Duration Destination  Net Sales  Commision (in value)  \\\n",
       "0    No       186    MALAYSIA      -29.0                  9.57   \n",
       "1    No       186    MALAYSIA      -29.0                  9.57   \n",
       "2    No        65   AUSTRALIA      -49.5                 29.70   \n",
       "3    No        60   AUSTRALIA      -39.6                 23.76   \n",
       "4    No        79       ITALY      -19.8                 11.88   \n",
       "\n",
       "              Gender  Age  \n",
       "0                  F   81  \n",
       "1                  F   71  \n",
       "2  Prefer not to say   32  \n",
       "3  Prefer not to say   32  \n",
       "4  Prefer not to say   41  "
      ]
     },
     "execution_count": 9,
     "metadata": {},
     "output_type": "execute_result"
    }
   ],
   "source": [
    "import matplotlib.pyplot as plt\n",
    " \n",
    "# Load the dataset\n",
    "b = pd.read_excel('abc2.xlsx')\n",
    " \n",
    "# Create the dataframe\n",
    "c = pd.DataFrame(b)\n",
    "\n",
    "c.head()"
   ]
  },
  {
   "cell_type": "code",
   "execution_count": 10,
   "id": "85c2339e",
   "metadata": {},
   "outputs": [
    {
     "name": "stderr",
     "output_type": "stream",
     "text": [
      "C:\\Users\\Asus\\anaconda3\\lib\\site-packages\\seaborn\\_decorators.py:36: FutureWarning: Pass the following variable as a keyword arg: x. From version 0.12, the only valid positional argument will be `data`, and passing other arguments without an explicit keyword will result in an error or misinterpretation.\n",
      "  warnings.warn(\n"
     ]
    },
    {
     "data": {
      "text/plain": [
       "<AxesSubplot:xlabel='Age'>"
      ]
     },
     "execution_count": 10,
     "metadata": {},
     "output_type": "execute_result"
    },
    {
     "data": {
      "image/png": "[encoded data removed]",
      "text/plain": [
       "<Figure size 432x288 with 1 Axes>"
      ]
     },
     "metadata": {
      "needs_background": "light"
     },
     "output_type": "display_data"
    }
   ],
   "source": [
    "# Box Plot\n",
    "import seaborn as sns\n",
    "sns.boxplot(c['Age'])\n"
   ]
  },
  {
   "cell_type": "code",
   "execution_count": 11,
   "id": "38fbc9b0",
   "metadata": {},
   "outputs": [
    {
     "name": "stdout",
     "output_type": "stream",
     "text": [
      "(array([], dtype=int64),)\n"
     ]
    }
   ],
   "source": [
    "# Position of the Outlier\n",
    "print(np.where((c['Age']>60) & (c['Age']<20)))"
   ]
  },
  {
   "cell_type": "code",
   "execution_count": 12,
   "id": "0207864b",
   "metadata": {},
   "outputs": [
    {
     "name": "stdout",
     "output_type": "stream",
     "text": [
      "0        2.927182\n",
      "1        2.213758\n",
      "2        0.568598\n",
      "3        0.568598\n",
      "4        0.073484\n",
      "           ...   \n",
      "63321    0.639940\n",
      "63322    0.002142\n",
      "63323    1.214963\n",
      "63324    1.643018\n",
      "63325    0.354571\n",
      "Name: Age, Length: 63326, dtype: float64\n"
     ]
    }
   ],
   "source": [
    "from scipy import stats\n",
    "zsAge = np.abs(stats.zscore(c['Age']))\n",
    "print(zsAge)"
   ]
  },
  {
   "cell_type": "code",
   "execution_count": 13,
   "id": "647ad98a",
   "metadata": {},
   "outputs": [
    {
     "name": "stdout",
     "output_type": "stream",
     "text": [
      "(array([   10,   105,   220, ..., 63096, 63182, 63183], dtype=int64),)\n"
     ]
    }
   ],
   "source": [
    "threshold = 3\n",
    " \n",
    "# Position of the outlier\n",
    "print(np.where(zsAge > 3))"
   ]
  },
  {
   "cell_type": "code",
   "execution_count": 14,
   "id": "fcfb9e02",
   "metadata": {},
   "outputs": [
    {
     "name": "stdout",
     "output_type": "stream",
     "text": [
      "IQR for age:  8.0\n"
     ]
    }
   ],
   "source": [
    "# IQRAge\n",
    "Q3Age = np.percentile(c['Age'], 75,\n",
    "                      interpolation = 'midpoint')\n",
    "Q1Age = np.percentile(c['Age'], 25,\n",
    "                      interpolation = 'midpoint')\n",
    "IQRAge = Q3Age - Q1Age\n",
    "print(\"IQR for age: \",IQRAge)"
   ]
  },
  {
   "cell_type": "code",
   "execution_count": 15,
   "id": "8130a6e2",
   "metadata": {},
   "outputs": [
    {
     "name": "stdout",
     "output_type": "stream",
     "text": [
      "<class 'pandas.core.frame.DataFrame'>\n",
      "RangeIndex: 63326 entries, 0 to 63325\n",
      "Data columns (total 11 columns):\n",
      " #   Column                Non-Null Count  Dtype  \n",
      "---  ------                --------------  -----  \n",
      " 0   Agency                63326 non-null  object \n",
      " 1   Agency Type           63326 non-null  object \n",
      " 2   Distribution Channel  63326 non-null  object \n",
      " 3   Product Name          63326 non-null  object \n",
      " 4   Claim                 63326 non-null  object \n",
      " 5   Duration              63326 non-null  int64  \n",
      " 6   Destination           63326 non-null  object \n",
      " 7   Net Sales             63326 non-null  float64\n",
      " 8   Commision (in value)  63326 non-null  float64\n",
      " 9   Gender                63326 non-null  object \n",
      " 10  Age                   63326 non-null  int64  \n",
      "dtypes: float64(2), int64(2), object(7)\n",
      "memory usage: 5.3+ MB\n"
     ]
    }
   ],
   "source": [
    "c.info()"
   ]
  },
  {
   "cell_type": "code",
   "execution_count": 16,
   "id": "568fa4b7",
   "metadata": {},
   "outputs": [
    {
     "name": "stderr",
     "output_type": "stream",
     "text": [
      "C:\\Users\\Asus\\anaconda3\\lib\\site-packages\\seaborn\\_decorators.py:36: FutureWarning: Pass the following variable as a keyword arg: x. From version 0.12, the only valid positional argument will be `data`, and passing other arguments without an explicit keyword will result in an error or misinterpretation.\n",
      "  warnings.warn(\n"
     ]
    },
    {
     "data": {
      "text/plain": [
       "<AxesSubplot:xlabel='Duration'>"
      ]
     },
     "execution_count": 16,
     "metadata": {},
     "output_type": "execute_result"
    },
    {
     "data": {
      "image/png": "[encoded data removed]",
      "text/plain": [
       "<Figure size 432x288 with 1 Axes>"
      ]
     },
     "metadata": {
      "needs_background": "light"
     },
     "output_type": "display_data"
    }
   ],
   "source": [
    "sns.boxplot(c['Duration'])"
   ]
  },
  {
   "cell_type": "code",
   "execution_count": 17,
   "id": "40b1d07d",
   "metadata": {},
   "outputs": [
    {
     "name": "stdout",
     "output_type": "stream",
     "text": [
      "(array([ 3025,  6847,  8686,  9232, 12059, 12438, 15281, 21916, 30437,\n",
      "       30826, 39842, 41391, 49722, 55326], dtype=int64),)\n"
     ]
    }
   ],
   "source": [
    "# Position of the Outlier\n",
    "print(np.where(c['Duration']>4000))"
   ]
  },
  {
   "cell_type": "code",
   "execution_count": 18,
   "id": "f6e7d710",
   "metadata": {},
   "outputs": [
    {
     "name": "stdout",
     "output_type": "stream",
     "text": [
      "0        1.342783\n",
      "1        1.342783\n",
      "2        0.154070\n",
      "3        0.104950\n",
      "4        0.291607\n",
      "           ...   \n",
      "63321    0.605978\n",
      "63322    0.085302\n",
      "63323    0.464846\n",
      "63324    0.455022\n",
      "63325    0.268365\n",
      "Name: Duration, Length: 63326, dtype: float64\n"
     ]
    }
   ],
   "source": [
    "zsDuration = np.abs(stats.zscore(c['Duration']))\n",
    "print(zsDuration)"
   ]
  },
  {
   "cell_type": "code",
   "execution_count": 19,
   "id": "e5a75a55",
   "metadata": {},
   "outputs": [
    {
     "name": "stdout",
     "output_type": "stream",
     "text": [
      "(array([   25,   251,   252, ..., 63232, 63233, 63234], dtype=int64),)\n"
     ]
    }
   ],
   "source": [
    "# Position of the outlier\n",
    "print(np.where(zsDuration > 3))"
   ]
  },
  {
   "cell_type": "code",
   "execution_count": 20,
   "id": "50341a9c",
   "metadata": {},
   "outputs": [
    {
     "name": "stdout",
     "output_type": "stream",
     "text": [
      "IQR for duration:  44.0\n"
     ]
    }
   ],
   "source": [
    "# IQRDuration\n",
    "Q3Duration = np.percentile(c['Duration'], 75,\n",
    "                      interpolation = 'midpoint')\n",
    "Q1Duration = np.percentile(c['Duration'], 25,\n",
    "                      interpolation = 'midpoint')\n",
    "IQRDuration = Q3Duration - Q1Duration\n",
    "print(\"IQR for duration: \",IQRDuration)"
   ]
  },
  {
   "cell_type": "code",
   "execution_count": 21,
   "id": "7efb8837",
   "metadata": {},
   "outputs": [
    {
     "name": "stderr",
     "output_type": "stream",
     "text": [
      "C:\\Users\\Asus\\anaconda3\\lib\\site-packages\\seaborn\\_decorators.py:36: FutureWarning: Pass the following variable as a keyword arg: x. From version 0.12, the only valid positional argument will be `data`, and passing other arguments without an explicit keyword will result in an error or misinterpretation.\n",
      "  warnings.warn(\n"
     ]
    },
    {
     "data": {
      "text/plain": [
       "<AxesSubplot:xlabel='Net Sales'>"
      ]
     },
     "execution_count": 21,
     "metadata": {},
     "output_type": "execute_result"
    },
    {
     "data": {
      "image/png": "[encoded data removed]",
      "text/plain": [
       "<Figure size 432x288 with 1 Axes>"
      ]
     },
     "metadata": {
      "needs_background": "light"
     },
     "output_type": "display_data"
    }
   ],
   "source": [
    "sns.boxplot(c['Net Sales'])"
   ]
  },
  {
   "cell_type": "code",
   "execution_count": 22,
   "id": "cc2324e2",
   "metadata": {},
   "outputs": [
    {
     "name": "stdout",
     "output_type": "stream",
     "text": [
      "(array([], dtype=int64),)\n"
     ]
    }
   ],
   "source": [
    "# Position of the Outlier\n",
    "print(np.where((c['Net Sales']>200) & (c['Net Sales']<-200)))"
   ]
  },
  {
   "cell_type": "code",
   "execution_count": 23,
   "id": "224f5645",
   "metadata": {},
   "outputs": [
    {
     "name": "stdout",
     "output_type": "stream",
     "text": [
      "0        1.426997\n",
      "1        1.426997\n",
      "2        1.846690\n",
      "3        1.644009\n",
      "4        1.238647\n",
      "           ...   \n",
      "63321    0.116736\n",
      "63322    0.014372\n",
      "63323    0.464774\n",
      "63324    0.464774\n",
      "63325    0.300992\n",
      "Name: Net Sales, Length: 63326, dtype: float64\n"
     ]
    }
   ],
   "source": [
    "zsNetSales = np.abs(stats.zscore(c['Net Sales']))\n",
    "print(zsNetSales)"
   ]
  },
  {
   "cell_type": "code",
   "execution_count": 24,
   "id": "ba7c561b",
   "metadata": {},
   "outputs": [
    {
     "name": "stdout",
     "output_type": "stream",
     "text": [
      "(array([    5,     7,    12, ..., 63232, 63233, 63234], dtype=int64),)\n"
     ]
    }
   ],
   "source": [
    "# Position of the outlier\n",
    "print(np.where(zsNetSales > 3))"
   ]
  },
  {
   "cell_type": "code",
   "execution_count": 25,
   "id": "fae6f2f0",
   "metadata": {},
   "outputs": [
    {
     "name": "stdout",
     "output_type": "stream",
     "text": [
      "IQR for net sales:  30.0\n"
     ]
    }
   ],
   "source": [
    "# IQRNetSales\n",
    "Q3NetSales = np.percentile(c['Net Sales'], 75,\n",
    "                      interpolation = 'midpoint')\n",
    "Q1NetSales = np.percentile(c['Net Sales'], 25,\n",
    "                      interpolation = 'midpoint')\n",
    "IQRNetSales = Q3NetSales - Q1NetSales\n",
    "print(\"IQR for net sales: \",IQRNetSales)"
   ]
  },
  {
   "cell_type": "code",
   "execution_count": 26,
   "id": "14f1d9f0",
   "metadata": {},
   "outputs": [
    {
     "name": "stderr",
     "output_type": "stream",
     "text": [
      "C:\\Users\\Asus\\anaconda3\\lib\\site-packages\\seaborn\\_decorators.py:36: FutureWarning: Pass the following variable as a keyword arg: x. From version 0.12, the only valid positional argument will be `data`, and passing other arguments without an explicit keyword will result in an error or misinterpretation.\n",
      "  warnings.warn(\n"
     ]
    },
    {
     "data": {
      "text/plain": [
       "<AxesSubplot:xlabel='Commision (in value)'>"
      ]
     },
     "execution_count": 26,
     "metadata": {},
     "output_type": "execute_result"
    },
    {
     "data": {
      "image/png": "[encoded data removed]",
      "text/plain": [
       "<Figure size 432x288 with 1 Axes>"
      ]
     },
     "metadata": {
      "needs_background": "light"
     },
     "output_type": "display_data"
    }
   ],
   "source": [
    "sns.boxplot(c['Commision (in value)'])"
   ]
  },
  {
   "cell_type": "code",
   "execution_count": 27,
   "id": "22e1c8ff",
   "metadata": {},
   "outputs": [
    {
     "name": "stdout",
     "output_type": "stream",
     "text": [
      "(array([    7,     9,    20, ..., 63234, 63239, 63240], dtype=int64),)\n"
     ]
    }
   ],
   "source": [
    "# Position of the Outlier\n",
    "print(np.where(c['Commision (in value)']>50))"
   ]
  },
  {
   "cell_type": "code",
   "execution_count": 28,
   "id": "8d55d14a",
   "metadata": {
    "scrolled": true
   },
   "outputs": [
    {
     "name": "stdout",
     "output_type": "stream",
     "text": [
      "0        0.012118\n",
      "1        0.012118\n",
      "2        1.004331\n",
      "3        0.704395\n",
      "4        0.104524\n",
      "           ...   \n",
      "63321    0.123206\n",
      "63322    0.211571\n",
      "63323    0.177234\n",
      "63324    0.177234\n",
      "63325    0.035851\n",
      "Name: Commision (in value), Length: 63326, dtype: float64\n"
     ]
    }
   ],
   "source": [
    "zsCommision = np.abs(stats.zscore(c['Commision (in value)']))\n",
    "print(zsCommision)"
   ]
  },
  {
   "cell_type": "code",
   "execution_count": 29,
   "id": "bd0e4894",
   "metadata": {},
   "outputs": [
    {
     "name": "stdout",
     "output_type": "stream",
     "text": [
      "(array([   24,    25,   130, ..., 63233, 63234, 63240], dtype=int64),)\n"
     ]
    }
   ],
   "source": [
    "# Position of the outlier\n",
    "print(np.where(zsCommision > 3))"
   ]
  },
  {
   "cell_type": "code",
   "execution_count": 30,
   "id": "480b6566",
   "metadata": {},
   "outputs": [
    {
     "name": "stdout",
     "output_type": "stream",
     "text": [
      "IQR for Commision:  11.55\n"
     ]
    }
   ],
   "source": [
    "# IQRCommision\n",
    "Q3Commision = np.percentile(c['Commision (in value)'], 75,\n",
    "                      interpolation = 'midpoint')\n",
    "Q1Commision = np.percentile(c['Commision (in value)'], 25,\n",
    "                      interpolation = 'midpoint')\n",
    "IQRCommision = Q3Commision - Q1Commision\n",
    "print(\"IQR for Commision: \",IQRCommision)"
   ]
  },
  {
   "cell_type": "code",
   "execution_count": 31,
   "id": "acf7569a",
   "metadata": {},
   "outputs": [],
   "source": [
    "# Upper bound\n",
    "upperAge = np.where(c['Age'] >= (Q3Age+1.5*IQRAge))\n",
    "# Lower bound\n",
    "lowerAge = np.where(c['Age'] <= (Q1Age-1.5*IQRAge))\n",
    " \n",
    "\n"
   ]
  },
  {
   "cell_type": "code",
   "execution_count": 32,
   "id": "1693d820",
   "metadata": {},
   "outputs": [
    {
     "name": "stdout",
     "output_type": "stream",
     "text": [
      "<class 'pandas.core.frame.DataFrame'>\n",
      "Int64Index: 54885 entries, 2 to 63325\n",
      "Data columns (total 11 columns):\n",
      " #   Column                Non-Null Count  Dtype  \n",
      "---  ------                --------------  -----  \n",
      " 0   Agency                54885 non-null  object \n",
      " 1   Agency Type           54885 non-null  object \n",
      " 2   Distribution Channel  54885 non-null  object \n",
      " 3   Product Name          54885 non-null  object \n",
      " 4   Claim                 54885 non-null  object \n",
      " 5   Duration              54885 non-null  int64  \n",
      " 6   Destination           54885 non-null  object \n",
      " 7   Net Sales             54885 non-null  float64\n",
      " 8   Commision (in value)  54885 non-null  float64\n",
      " 9   Gender                54885 non-null  object \n",
      " 10  Age                   54885 non-null  int64  \n",
      "dtypes: float64(2), int64(2), object(7)\n",
      "memory usage: 5.0+ MB\n"
     ]
    }
   ],
   "source": [
    "''' Removing the Outliers '''\n",
    "c.drop(upperAge[0], inplace = True)\n",
    "c.drop(lowerAge[0], inplace = True)\n",
    "c.info()\n",
    "c.to_excel(r'C:\\Users\\Asus\\abc3.xlsx', index = False)\n",
    "\n"
   ]
  },
  {
   "cell_type": "code",
   "execution_count": 33,
   "id": "81e34db9",
   "metadata": {},
   "outputs": [
    {
     "name": "stdout",
     "output_type": "stream",
     "text": [
      "<class 'pandas.core.frame.DataFrame'>\n",
      "Int64Index: 50076 entries, 0 to 54884\n",
      "Data columns (total 11 columns):\n",
      " #   Column                Non-Null Count  Dtype  \n",
      "---  ------                --------------  -----  \n",
      " 0   Agency                50076 non-null  object \n",
      " 1   Agency Type           50076 non-null  object \n",
      " 2   Distribution Channel  50076 non-null  object \n",
      " 3   Product Name          50076 non-null  object \n",
      " 4   Claim                 50076 non-null  object \n",
      " 5   Duration              50076 non-null  int64  \n",
      " 6   Destination           50076 non-null  object \n",
      " 7   Net Sales             50076 non-null  float64\n",
      " 8   Commision (in value)  50076 non-null  float64\n",
      " 9   Gender                50076 non-null  object \n",
      " 10  Age                   50076 non-null  int64  \n",
      "dtypes: float64(2), int64(2), object(7)\n",
      "memory usage: 4.6+ MB\n"
     ]
    }
   ],
   "source": [
    "# Load the dataset\n",
    "d = pd.read_excel('abc3.xlsx')\n",
    " \n",
    "# Create the dataframe\n",
    "e = pd.DataFrame(d)\n",
    "# Upper bound\n",
    "upperDuration = np.where(e['Duration'] >= (Q3Duration+1.5*IQRDuration))\n",
    "# Lower bound\n",
    "lowerDuration = np.where(e['Duration'] <= (Q1Duration-1.5*IQRDuration))\n",
    " \n",
    "e.drop(upperDuration[0], inplace = True)\n",
    "e.drop(lowerDuration[0], inplace = True)\n",
    "e.info()\n",
    "e.to_excel(r'C:\\Users\\Asus\\abc4.xlsx', index = False)\n",
    "\n"
   ]
  },
  {
   "cell_type": "code",
   "execution_count": null,
   "id": "d03cec39",
   "metadata": {},
   "outputs": [],
   "source": [
    "\n"
   ]
  },
  {
   "cell_type": "code",
   "execution_count": 34,
   "id": "2f24ea07",
   "metadata": {},
   "outputs": [
    {
     "name": "stdout",
     "output_type": "stream",
     "text": [
      "<class 'pandas.core.frame.DataFrame'>\n",
      "Int64Index: 47396 entries, 2 to 50075\n",
      "Data columns (total 11 columns):\n",
      " #   Column                Non-Null Count  Dtype  \n",
      "---  ------                --------------  -----  \n",
      " 0   Agency                47396 non-null  object \n",
      " 1   Agency Type           47396 non-null  object \n",
      " 2   Distribution Channel  47396 non-null  object \n",
      " 3   Product Name          47396 non-null  object \n",
      " 4   Claim                 47396 non-null  object \n",
      " 5   Duration              47396 non-null  int64  \n",
      " 6   Destination           47396 non-null  object \n",
      " 7   Net Sales             47396 non-null  float64\n",
      " 8   Commision (in value)  47396 non-null  float64\n",
      " 9   Gender                47396 non-null  object \n",
      " 10  Age                   47396 non-null  int64  \n",
      "dtypes: float64(2), int64(2), object(7)\n",
      "memory usage: 4.3+ MB\n"
     ]
    }
   ],
   "source": [
    "# Load the dataset\n",
    "f = pd.read_excel('abc4.xlsx')\n",
    " \n",
    "# Create the dataframe\n",
    "g = pd.DataFrame(f)\n",
    "# Upper bound\n",
    "upperNetSales = np.where(g['Net Sales'] >= (Q3NetSales+1.5*IQRNetSales))\n",
    "# Lower bound\n",
    "lowerNetSales = np.where(g['Net Sales'] <= (Q1NetSales-1.5*IQRNetSales))\n",
    "g.drop(upperNetSales[0], inplace = True)\n",
    "g.drop(lowerNetSales[0], inplace = True)\n",
    "\n",
    "g.info()\n",
    "g.to_excel(r'C:\\Users\\Asus\\abc5.xlsx', index = False)"
   ]
  },
  {
   "cell_type": "code",
   "execution_count": null,
   "id": "fc2b1de3",
   "metadata": {},
   "outputs": [],
   "source": []
  },
  {
   "cell_type": "code",
   "execution_count": 35,
   "id": "a3538cb4",
   "metadata": {},
   "outputs": [
    {
     "name": "stdout",
     "output_type": "stream",
     "text": [
      "<class 'pandas.core.frame.DataFrame'>\n",
      "Int64Index: 46283 entries, 1 to 50075\n",
      "Data columns (total 11 columns):\n",
      " #   Column                Non-Null Count  Dtype  \n",
      "---  ------                --------------  -----  \n",
      " 0   Agency                46283 non-null  object \n",
      " 1   Agency Type           46283 non-null  object \n",
      " 2   Distribution Channel  46283 non-null  object \n",
      " 3   Product Name          46283 non-null  object \n",
      " 4   Claim                 46283 non-null  object \n",
      " 5   Duration              46283 non-null  int64  \n",
      " 6   Destination           46283 non-null  object \n",
      " 7   Net Sales             46283 non-null  float64\n",
      " 8   Commision (in value)  46283 non-null  float64\n",
      " 9   Gender                46283 non-null  object \n",
      " 10  Age                   46283 non-null  int64  \n",
      "dtypes: float64(2), int64(2), object(7)\n",
      "memory usage: 4.2+ MB\n"
     ]
    }
   ],
   "source": [
    "\n",
    "\n",
    "# Load the dataset\n",
    "h = pd.read_excel('abc4.xlsx')\n",
    " \n",
    "# Create the dataframe\n",
    "i = pd.DataFrame(f)\n",
    "# Upper bound\n",
    "upperCommision = np.where(i['Commision (in value)'] >= (Q3Commision+1.5*IQRCommision))\n",
    "# Lower bound\n",
    "lowerCommision = np.where(i['Commision (in value)'] <= (Q1Commision-1.5*IQRCommision))\n",
    "i.drop(upperCommision[0], inplace = True)\n",
    "i.drop(lowerCommision[0], inplace = True)\n",
    "\n",
    "i.info()\n",
    "i.to_excel(r'C:\\Users\\Asus\\abc5.xlsx', index = False)"
   ]
  },
  {
   "cell_type": "code",
   "execution_count": 36,
   "id": "ff8f99bc",
   "metadata": {},
   "outputs": [
    {
     "name": "stdout",
     "output_type": "stream",
     "text": [
      "  Agency    Agency Type Distribution Channel                     Product Name  \\\n",
      "1    CWT  Travel Agency               Online  Rental Vehicle Excess Insurance   \n",
      "2    CWT  Travel Agency               Online  Rental Vehicle Excess Insurance   \n",
      "4    CWT  Travel Agency               Online  Rental Vehicle Excess Insurance   \n",
      "6    CWT  Travel Agency               Online  Rental Vehicle Excess Insurance   \n",
      "7    JZI       Airlines               Online                       Basic Plan   \n",
      "\n",
      "  Claim  Duration    Destination  Net Sales  Commision (in value)  \\\n",
      "1    No        60      AUSTRALIA      -39.6                 23.76   \n",
      "2    No        79          ITALY      -19.8                 11.88   \n",
      "4    No        47  UNITED STATES      -39.6                 23.76   \n",
      "6    No        57       THAILAND      -19.8                 11.88   \n",
      "7    No         1       MALAYSIA      -18.0                  6.30   \n",
      "\n",
      "              Gender  Age  \n",
      "1  Prefer not to say   32  \n",
      "2  Prefer not to say   41  \n",
      "4  Prefer not to say   32  \n",
      "6  Prefer not to say   44  \n",
      "7                  M   47  \n"
     ]
    }
   ],
   "source": [
    "print(i.head())"
   ]
  },
  {
   "cell_type": "code",
   "execution_count": 37,
   "id": "09356b1e",
   "metadata": {},
   "outputs": [
    {
     "data": {
      "image/png": "[encoded data removed]",
      "text/plain": [
       "<Figure size 648x504 with 1 Axes>"
      ]
     },
     "metadata": {
      "needs_background": "light"
     },
     "output_type": "display_data"
    }
   ],
   "source": [
    "fig, ax=plt.subplots(figsize=(9,7))\n",
    "ax.hist(i['Age'], color='r', edgecolor='w')\n",
    "plt.title(\"Histogram Age\")\n",
    "plt.show()"
   ]
  },
  {
   "cell_type": "code",
   "execution_count": 38,
   "id": "4101bd14",
   "metadata": {},
   "outputs": [
    {
     "name": "stdout",
     "output_type": "stream",
     "text": [
      "           sqrt           exp       log  reciprocal\n",
      "1      5.656854  7.896296e+13  3.465736           0\n",
      "2      6.403124  6.398435e+17  3.713572           0\n",
      "4      5.656854  7.896296e+13  3.465736           0\n",
      "6      6.633250  1.285160e+19  3.784190           0\n",
      "7      6.855655  2.581313e+20  3.850148           0\n",
      "...         ...           ...       ...         ...\n",
      "50071  7.141428  1.409349e+22  3.931826           0\n",
      "50072  5.196152  5.320482e+11  3.295837           0\n",
      "50073  5.567764  2.904885e+13  3.433987           0\n",
      "50074  6.324555  2.353853e+17  3.688879           0\n",
      "50075  5.916080  1.586013e+15  3.555348           0\n",
      "\n",
      "[46283 rows x 4 columns]\n"
     ]
    }
   ],
   "source": [
    "age_tr =i['Age'].transform([np.sqrt, np.exp, np.log, np.reciprocal])\n",
    "print(age_tr)"
   ]
  },
  {
   "cell_type": "code",
   "execution_count": 39,
   "id": "e03b9669",
   "metadata": {},
   "outputs": [
    {
     "data": {
      "image/png": "[encoded data removed]",
      "text/plain": [
       "<Figure size 720x576 with 4 Axes>"
      ]
     },
     "metadata": {
      "needs_background": "light"
     },
     "output_type": "display_data"
    }
   ],
   "source": [
    "age_tr.hist(layout=(2,2),edgecolor='b',figsize=(10,8))\n",
    "plt.suptitle('Transformed Age')\n",
    "plt.show()"
   ]
  },
  {
   "cell_type": "code",
   "execution_count": 40,
   "id": "9e44cda6",
   "metadata": {},
   "outputs": [
    {
     "data": {
      "image/png": "[encoded data removed]",
      "text/plain": [
       "<Figure size 648x504 with 1 Axes>"
      ]
     },
     "metadata": {
      "needs_background": "light"
     },
     "output_type": "display_data"
    }
   ],
   "source": [
    "fig, ax=plt.subplots(figsize=(9,7))\n",
    "ax.hist(i['Duration'], color='r', edgecolor='w')\n",
    "plt.title(\"Histogram Duration\")\n",
    "plt.show()"
   ]
  },
  {
   "cell_type": "code",
   "execution_count": 41,
   "id": "be12dc65",
   "metadata": {},
   "outputs": [
    {
     "name": "stdout",
     "output_type": "stream",
     "text": [
      "            sqrt           exp\n",
      "1       7.745967  1.142007e+26\n",
      "2       8.888194  2.038281e+34\n",
      "4       6.855655  2.581313e+20\n",
      "6       7.549834  5.685720e+24\n",
      "7       1.000000  2.718282e+00\n",
      "...          ...           ...\n",
      "50071   3.162278  2.202647e+04\n",
      "50072   2.236068  1.484132e+02\n",
      "50073  10.535654  1.609487e+48\n",
      "50074   7.615773  1.545539e+25\n",
      "50075   4.690416  3.584913e+09\n",
      "\n",
      "[46283 rows x 2 columns]\n"
     ]
    }
   ],
   "source": [
    "duration_tr =i['Duration'].transform([np.sqrt,np.exp])\n",
    "print(duration_tr)"
   ]
  },
  {
   "cell_type": "code",
   "execution_count": 42,
   "id": "c4709042",
   "metadata": {},
   "outputs": [
    {
     "data": {
      "image/png": "[encoded data removed]",
      "text/plain": [
       "<Figure size 720x576 with 4 Axes>"
      ]
     },
     "metadata": {
      "needs_background": "light"
     },
     "output_type": "display_data"
    }
   ],
   "source": [
    "duration_tr.hist(layout=(2,2),edgecolor='b',figsize=(10,8))\n",
    "plt.suptitle('Transformed Duration')\n",
    "plt.show()"
   ]
  },
  {
   "cell_type": "code",
   "execution_count": 43,
   "id": "b6fff848",
   "metadata": {},
   "outputs": [
    {
     "data": {
      "image/png": "[encoded data removed]",
      "text/plain": [
       "<Figure size 576x432 with 1 Axes>"
      ]
     },
     "metadata": {
      "needs_background": "light"
     },
     "output_type": "display_data"
    }
   ],
   "source": [
    "fig, ax=plt.subplots(figsize=(8,6))\n",
    "ax.hist(i['Net Sales'], color='r', edgecolor='w')\n",
    "plt.title(\"Histogram Net Sales\")\n",
    "plt.show()"
   ]
  },
  {
   "cell_type": "code",
   "execution_count": 44,
   "id": "c900c9ec",
   "metadata": {},
   "outputs": [
    {
     "name": "stdout",
     "output_type": "stream",
     "text": [
      "           sqrt           exp\n",
      "1           NaN  6.337800e-18\n",
      "2           NaN  2.517499e-09\n",
      "4           NaN  6.337800e-18\n",
      "6           NaN  2.517499e-09\n",
      "7           NaN  1.522998e-08\n",
      "...         ...           ...\n",
      "50071  5.916080  1.586013e+15\n",
      "50072  4.242641  6.565997e+07\n",
      "50073  5.916080  1.586013e+15\n",
      "50074  6.324555  2.353853e+17\n",
      "50075  5.099020  1.957296e+11\n",
      "\n",
      "[46283 rows x 2 columns]\n"
     ]
    },
    {
     "data": {
      "image/png": "[encoded data removed]",
      "text/plain": [
       "<Figure size 720x576 with 4 Axes>"
      ]
     },
     "metadata": {
      "needs_background": "light"
     },
     "output_type": "display_data"
    }
   ],
   "source": [
    "netSales_tr =i['Net Sales'].transform([np.sqrt, np.exp])\n",
    "print(netSales_tr)\n",
    "netSales_tr.hist(layout=(2,2),edgecolor='b',figsize=(10,8))\n",
    "\n",
    "plt.suptitle('Transformed Net Sales')\n",
    "plt.show()"
   ]
  },
  {
   "cell_type": "code",
   "execution_count": 45,
   "id": "b1b5e259",
   "metadata": {},
   "outputs": [
    {
     "data": {
      "image/png": "[encoded data removed]",
      "text/plain": [
       "<Figure size 576x432 with 1 Axes>"
      ]
     },
     "metadata": {
      "needs_background": "light"
     },
     "output_type": "display_data"
    }
   ],
   "source": [
    "fig, ax=plt.subplots(figsize=(8,6))\n",
    "ax.hist(i['Commision (in value)'], color='r', edgecolor='w')\n",
    "plt.title(\"Histogram Commision\")\n",
    "plt.show()"
   ]
  },
  {
   "cell_type": "code",
   "execution_count": 46,
   "id": "5490e06d",
   "metadata": {},
   "outputs": [
    {
     "name": "stdout",
     "output_type": "stream",
     "text": [
      "           sqrt           exp\n",
      "1      4.874423  2.083708e+10\n",
      "2      3.446738  1.443506e+05\n",
      "4      4.874423  2.083708e+10\n",
      "6      3.446738  1.443506e+05\n",
      "7      2.509980  5.445719e+02\n",
      "...         ...           ...\n",
      "50071  3.500000  2.089813e+05\n",
      "50072  2.509980  5.445719e+02\n",
      "50073  3.500000  2.089813e+05\n",
      "50074  3.741657  1.202604e+06\n",
      "50075  3.016621  8.955293e+03\n",
      "\n",
      "[46283 rows x 2 columns]\n"
     ]
    },
    {
     "data": {
      "image/png": "[encoded data removed]",
      "text/plain": [
       "<Figure size 720x576 with 4 Axes>"
      ]
     },
     "metadata": {
      "needs_background": "light"
     },
     "output_type": "display_data"
    }
   ],
   "source": [
    "commision_tr =i['Commision (in value)'].transform([np.sqrt,np.exp])\n",
    "print(commision_tr)\n",
    "netSales_tr.hist(layout=(2,2),edgecolor='b',figsize=(10,8))\n",
    "\n",
    "plt.suptitle('Transformed Commision')\n",
    "plt.show()"
   ]
  },
  {
   "cell_type": "code",
   "execution_count": 53,
   "id": "7b09743e",
   "metadata": {},
   "outputs": [],
   "source": [
    "#feature selection: filter method\n",
    "# Load the dataset\n",
    "j = pd.read_excel('abc5copy.xlsx')\n",
    " \n",
    "# Create the dataframe\n",
    "k = pd.DataFrame(j)"
   ]
  },
  {
   "cell_type": "code",
   "execution_count": 54,
   "id": "06172f6b",
   "metadata": {},
   "outputs": [],
   "source": [
    "%matplotlib inline"
   ]
  },
  {
   "cell_type": "code",
   "execution_count": 55,
   "id": "640033ad",
   "metadata": {},
   "outputs": [
    {
     "data": {
      "text/plain": [
       "<AxesSubplot:>"
      ]
     },
     "execution_count": 55,
     "metadata": {},
     "output_type": "execute_result"
    },
    {
     "data": {
      "image/png": "[encoded data removed]",
      "text/plain": [
       "<Figure size 1080x720 with 2 Axes>"
      ]
     },
     "metadata": {
      "needs_background": "light"
     },
     "output_type": "display_data"
    }
   ],
   "source": [
    "CorrMat = k.corr()\n",
    "plt.figure(figsize= (15,10))\n",
    "sns.heatmap(CorrMat, annot=True)"
   ]
  },
  {
   "cell_type": "code",
   "execution_count": 56,
   "id": "013b981f",
   "metadata": {},
   "outputs": [
    {
     "data": {
      "text/html": [
       "<div>\n",
       "<style scoped>\n",
       "    .dataframe tbody tr th:only-of-type {\n",
       "        vertical-align: middle;\n",
       "    }\n",
       "\n",
       "    .dataframe tbody tr th {\n",
       "        vertical-align: top;\n",
       "    }\n",
       "\n",
       "    .dataframe thead th {\n",
       "        text-align: right;\n",
       "    }\n",
       "</style>\n",
       "<table border=\"1\" class=\"dataframe\">\n",
       "  <thead>\n",
       "    <tr style=\"text-align: right;\">\n",
       "      <th></th>\n",
       "      <th>Duration</th>\n",
       "      <th>Net Sales</th>\n",
       "      <th>Commision (in value)</th>\n",
       "      <th>Age</th>\n",
       "    </tr>\n",
       "  </thead>\n",
       "  <tbody>\n",
       "    <tr>\n",
       "      <th>0</th>\n",
       "      <td>60</td>\n",
       "      <td>-39.6</td>\n",
       "      <td>23.76</td>\n",
       "      <td>32</td>\n",
       "    </tr>\n",
       "    <tr>\n",
       "      <th>1</th>\n",
       "      <td>79</td>\n",
       "      <td>-19.8</td>\n",
       "      <td>11.88</td>\n",
       "      <td>41</td>\n",
       "    </tr>\n",
       "    <tr>\n",
       "      <th>2</th>\n",
       "      <td>47</td>\n",
       "      <td>-39.6</td>\n",
       "      <td>23.76</td>\n",
       "      <td>32</td>\n",
       "    </tr>\n",
       "    <tr>\n",
       "      <th>3</th>\n",
       "      <td>57</td>\n",
       "      <td>-19.8</td>\n",
       "      <td>11.88</td>\n",
       "      <td>44</td>\n",
       "    </tr>\n",
       "    <tr>\n",
       "      <th>4</th>\n",
       "      <td>1</td>\n",
       "      <td>-18.0</td>\n",
       "      <td>6.30</td>\n",
       "      <td>47</td>\n",
       "    </tr>\n",
       "  </tbody>\n",
       "</table>\n",
       "</div>"
      ],
      "text/plain": [
       "   Duration  Net Sales  Commision (in value)  Age\n",
       "0        60      -39.6                 23.76   32\n",
       "1        79      -19.8                 11.88   41\n",
       "2        47      -39.6                 23.76   32\n",
       "3        57      -19.8                 11.88   44\n",
       "4         1      -18.0                  6.30   47"
      ]
     },
     "execution_count": 56,
     "metadata": {},
     "output_type": "execute_result"
    }
   ],
   "source": [
    "from sklearn.feature_selection import VarianceThreshold \n",
    "k.head()"
   ]
  },
  {
   "cell_type": "code",
   "execution_count": 61,
   "id": "c1190d4c",
   "metadata": {},
   "outputs": [
    {
     "data": {
      "text/plain": [
       "array([ True,  True,  True,  True])"
      ]
     },
     "execution_count": 61,
     "metadata": {},
     "output_type": "execute_result"
    }
   ],
   "source": [
    "VT= VarianceThreshold(threshold=1)\n",
    "VT.fit(k)\n",
    "VT.get_support()"
   ]
  },
  {
   "cell_type": "code",
   "execution_count": 71,
   "id": "18ad2fb9",
   "metadata": {},
   "outputs": [
    {
     "ename": "ValueError",
     "evalue": "Unknown label type: (array([[23.76],\n       [11.88],\n       [23.76],\n       ...,\n       [12.25],\n       [14.  ],\n       [ 9.1 ]]),)",
     "output_type": "error",
     "traceback": [
      "\u001b[1;31m---------------------------------------------------------------------------\u001b[0m",
      "\u001b[1;31mValueError\u001b[0m                                Traceback (most recent call last)",
      "Input \u001b[1;32mIn [71]\u001b[0m, in \u001b[0;36m<cell line: 11>\u001b[1;34m()\u001b[0m\n\u001b[0;32m      6\u001b[0m y\u001b[38;5;241m=\u001b[39mk[[\u001b[38;5;124m'\u001b[39m\u001b[38;5;124mCommision (in value)\u001b[39m\u001b[38;5;124m'\u001b[39m]]\n\u001b[0;32m     10\u001b[0m chi2_selector \u001b[38;5;241m=\u001b[39m SelectKBest(chi2, k\u001b[38;5;241m=\u001b[39m\u001b[38;5;241m2\u001b[39m)\n\u001b[1;32m---> 11\u001b[0m kBest \u001b[38;5;241m=\u001b[39m \u001b[43mchi2_selector\u001b[49m\u001b[38;5;241;43m.\u001b[39;49m\u001b[43mfit_transform\u001b[49m\u001b[43m(\u001b[49m\u001b[43mX\u001b[49m\u001b[43m,\u001b[49m\u001b[43my\u001b[49m\u001b[43m)\u001b[49m\n\u001b[0;32m     13\u001b[0m chi2_scores \u001b[38;5;241m=\u001b[39m pd\u001b[38;5;241m.\u001b[39mDataFrame(\u001b[38;5;28mlist\u001b[39m(\u001b[38;5;28mzip\u001b[39m(j\u001b[38;5;241m.\u001b[39mfeatures_names, chi2_selector\u001b[38;5;241m.\u001b[39mscores_)),column\u001b[38;5;241m=\u001b[39m[\u001b[38;5;124m'\u001b[39m\u001b[38;5;124mfeatures\u001b[39m\u001b[38;5;124m'\u001b[39m,\u001b[38;5;124m'\u001b[39m\u001b[38;5;124mscore\u001b[39m\u001b[38;5;124m'\u001b[39m])\n\u001b[0;32m     14\u001b[0m chi2_scores\n",
      "File \u001b[1;32m~\\anaconda3\\lib\\site-packages\\sklearn\\base.py:855\u001b[0m, in \u001b[0;36mTransformerMixin.fit_transform\u001b[1;34m(self, X, y, **fit_params)\u001b[0m\n\u001b[0;32m    852\u001b[0m     \u001b[38;5;28;01mreturn\u001b[39;00m \u001b[38;5;28mself\u001b[39m\u001b[38;5;241m.\u001b[39mfit(X, \u001b[38;5;241m*\u001b[39m\u001b[38;5;241m*\u001b[39mfit_params)\u001b[38;5;241m.\u001b[39mtransform(X)\n\u001b[0;32m    853\u001b[0m \u001b[38;5;28;01melse\u001b[39;00m:\n\u001b[0;32m    854\u001b[0m     \u001b[38;5;66;03m# fit method of arity 2 (supervised transformation)\u001b[39;00m\n\u001b[1;32m--> 855\u001b[0m     \u001b[38;5;28;01mreturn\u001b[39;00m \u001b[38;5;28mself\u001b[39m\u001b[38;5;241m.\u001b[39mfit(X, y, \u001b[38;5;241m*\u001b[39m\u001b[38;5;241m*\u001b[39mfit_params)\u001b[38;5;241m.\u001b[39mtransform(X)\n",
      "File \u001b[1;32m~\\anaconda3\\lib\\site-packages\\sklearn\\feature_selection\\_univariate_selection.py:408\u001b[0m, in \u001b[0;36m_BaseFilter.fit\u001b[1;34m(self, X, y)\u001b[0m\n\u001b[0;32m    402\u001b[0m     \u001b[38;5;28;01mraise\u001b[39;00m \u001b[38;5;167;01mTypeError\u001b[39;00m(\n\u001b[0;32m    403\u001b[0m         \u001b[38;5;124m\"\u001b[39m\u001b[38;5;124mThe score function should be a callable, \u001b[39m\u001b[38;5;132;01m%s\u001b[39;00m\u001b[38;5;124m (\u001b[39m\u001b[38;5;132;01m%s\u001b[39;00m\u001b[38;5;124m) was passed.\u001b[39m\u001b[38;5;124m\"\u001b[39m\n\u001b[0;32m    404\u001b[0m         \u001b[38;5;241m%\u001b[39m (\u001b[38;5;28mself\u001b[39m\u001b[38;5;241m.\u001b[39mscore_func, \u001b[38;5;28mtype\u001b[39m(\u001b[38;5;28mself\u001b[39m\u001b[38;5;241m.\u001b[39mscore_func))\n\u001b[0;32m    405\u001b[0m     )\n\u001b[0;32m    407\u001b[0m \u001b[38;5;28mself\u001b[39m\u001b[38;5;241m.\u001b[39m_check_params(X, y)\n\u001b[1;32m--> 408\u001b[0m score_func_ret \u001b[38;5;241m=\u001b[39m \u001b[38;5;28;43mself\u001b[39;49m\u001b[38;5;241;43m.\u001b[39;49m\u001b[43mscore_func\u001b[49m\u001b[43m(\u001b[49m\u001b[43mX\u001b[49m\u001b[43m,\u001b[49m\u001b[43m \u001b[49m\u001b[43my\u001b[49m\u001b[43m)\u001b[49m\n\u001b[0;32m    409\u001b[0m \u001b[38;5;28;01mif\u001b[39;00m \u001b[38;5;28misinstance\u001b[39m(score_func_ret, (\u001b[38;5;28mlist\u001b[39m, \u001b[38;5;28mtuple\u001b[39m)):\n\u001b[0;32m    410\u001b[0m     \u001b[38;5;28mself\u001b[39m\u001b[38;5;241m.\u001b[39mscores_, \u001b[38;5;28mself\u001b[39m\u001b[38;5;241m.\u001b[39mpvalues_ \u001b[38;5;241m=\u001b[39m score_func_ret\n",
      "File \u001b[1;32m~\\anaconda3\\lib\\site-packages\\sklearn\\feature_selection\\_univariate_selection.py:217\u001b[0m, in \u001b[0;36mchi2\u001b[1;34m(X, y)\u001b[0m\n\u001b[0;32m    214\u001b[0m \u001b[38;5;28;01mif\u001b[39;00m np\u001b[38;5;241m.\u001b[39many((X\u001b[38;5;241m.\u001b[39mdata \u001b[38;5;28;01mif\u001b[39;00m issparse(X) \u001b[38;5;28;01melse\u001b[39;00m X) \u001b[38;5;241m<\u001b[39m \u001b[38;5;241m0\u001b[39m):\n\u001b[0;32m    215\u001b[0m     \u001b[38;5;28;01mraise\u001b[39;00m \u001b[38;5;167;01mValueError\u001b[39;00m(\u001b[38;5;124m\"\u001b[39m\u001b[38;5;124mInput X must be non-negative.\u001b[39m\u001b[38;5;124m\"\u001b[39m)\n\u001b[1;32m--> 217\u001b[0m Y \u001b[38;5;241m=\u001b[39m \u001b[43mLabelBinarizer\u001b[49m\u001b[43m(\u001b[49m\u001b[43m)\u001b[49m\u001b[38;5;241;43m.\u001b[39;49m\u001b[43mfit_transform\u001b[49m\u001b[43m(\u001b[49m\u001b[43my\u001b[49m\u001b[43m)\u001b[49m\n\u001b[0;32m    218\u001b[0m \u001b[38;5;28;01mif\u001b[39;00m Y\u001b[38;5;241m.\u001b[39mshape[\u001b[38;5;241m1\u001b[39m] \u001b[38;5;241m==\u001b[39m \u001b[38;5;241m1\u001b[39m:\n\u001b[0;32m    219\u001b[0m     Y \u001b[38;5;241m=\u001b[39m np\u001b[38;5;241m.\u001b[39mappend(\u001b[38;5;241m1\u001b[39m \u001b[38;5;241m-\u001b[39m Y, Y, axis\u001b[38;5;241m=\u001b[39m\u001b[38;5;241m1\u001b[39m)\n",
      "File \u001b[1;32m~\\anaconda3\\lib\\site-packages\\sklearn\\preprocessing\\_label.py:324\u001b[0m, in \u001b[0;36mLabelBinarizer.fit_transform\u001b[1;34m(self, y)\u001b[0m\n\u001b[0;32m    304\u001b[0m \u001b[38;5;28;01mdef\u001b[39;00m \u001b[38;5;21mfit_transform\u001b[39m(\u001b[38;5;28mself\u001b[39m, y):\n\u001b[0;32m    305\u001b[0m     \u001b[38;5;124;03m\"\"\"Fit label binarizer/transform multi-class labels to binary labels.\u001b[39;00m\n\u001b[0;32m    306\u001b[0m \n\u001b[0;32m    307\u001b[0m \u001b[38;5;124;03m    The output of transform is sometimes referred to as\u001b[39;00m\n\u001b[1;32m   (...)\u001b[0m\n\u001b[0;32m    322\u001b[0m \u001b[38;5;124;03m        will be of CSR format.\u001b[39;00m\n\u001b[0;32m    323\u001b[0m \u001b[38;5;124;03m    \"\"\"\u001b[39;00m\n\u001b[1;32m--> 324\u001b[0m     \u001b[38;5;28;01mreturn\u001b[39;00m \u001b[38;5;28;43mself\u001b[39;49m\u001b[38;5;241;43m.\u001b[39;49m\u001b[43mfit\u001b[49m\u001b[43m(\u001b[49m\u001b[43my\u001b[49m\u001b[43m)\u001b[49m\u001b[38;5;241m.\u001b[39mtransform(y)\n",
      "File \u001b[1;32m~\\anaconda3\\lib\\site-packages\\sklearn\\preprocessing\\_label.py:301\u001b[0m, in \u001b[0;36mLabelBinarizer.fit\u001b[1;34m(self, y)\u001b[0m\n\u001b[0;32m    298\u001b[0m     \u001b[38;5;28;01mraise\u001b[39;00m \u001b[38;5;167;01mValueError\u001b[39;00m(\u001b[38;5;124m\"\u001b[39m\u001b[38;5;124my has 0 samples: \u001b[39m\u001b[38;5;132;01m%r\u001b[39;00m\u001b[38;5;124m\"\u001b[39m \u001b[38;5;241m%\u001b[39m y)\n\u001b[0;32m    300\u001b[0m \u001b[38;5;28mself\u001b[39m\u001b[38;5;241m.\u001b[39msparse_input_ \u001b[38;5;241m=\u001b[39m sp\u001b[38;5;241m.\u001b[39missparse(y)\n\u001b[1;32m--> 301\u001b[0m \u001b[38;5;28mself\u001b[39m\u001b[38;5;241m.\u001b[39mclasses_ \u001b[38;5;241m=\u001b[39m \u001b[43munique_labels\u001b[49m\u001b[43m(\u001b[49m\u001b[43my\u001b[49m\u001b[43m)\u001b[49m\n\u001b[0;32m    302\u001b[0m \u001b[38;5;28;01mreturn\u001b[39;00m \u001b[38;5;28mself\u001b[39m\n",
      "File \u001b[1;32m~\\anaconda3\\lib\\site-packages\\sklearn\\utils\\multiclass.py:101\u001b[0m, in \u001b[0;36munique_labels\u001b[1;34m(*ys)\u001b[0m\n\u001b[0;32m     99\u001b[0m _unique_labels \u001b[38;5;241m=\u001b[39m _FN_UNIQUE_LABELS\u001b[38;5;241m.\u001b[39mget(label_type, \u001b[38;5;28;01mNone\u001b[39;00m)\n\u001b[0;32m    100\u001b[0m \u001b[38;5;28;01mif\u001b[39;00m \u001b[38;5;129;01mnot\u001b[39;00m _unique_labels:\n\u001b[1;32m--> 101\u001b[0m     \u001b[38;5;28;01mraise\u001b[39;00m \u001b[38;5;167;01mValueError\u001b[39;00m(\u001b[38;5;124m\"\u001b[39m\u001b[38;5;124mUnknown label type: \u001b[39m\u001b[38;5;132;01m%s\u001b[39;00m\u001b[38;5;124m\"\u001b[39m \u001b[38;5;241m%\u001b[39m \u001b[38;5;28mrepr\u001b[39m(ys))\n\u001b[0;32m    103\u001b[0m ys_labels \u001b[38;5;241m=\u001b[39m \u001b[38;5;28mset\u001b[39m(chain\u001b[38;5;241m.\u001b[39mfrom_iterable(_unique_labels(y) \u001b[38;5;28;01mfor\u001b[39;00m y \u001b[38;5;129;01min\u001b[39;00m ys))\n\u001b[0;32m    105\u001b[0m \u001b[38;5;66;03m# Check that we don't mix string type with number type\u001b[39;00m\n",
      "\u001b[1;31mValueError\u001b[0m: Unknown label type: (array([[23.76],\n       [11.88],\n       [23.76],\n       ...,\n       [12.25],\n       [14.  ],\n       [ 9.1 ]]),)"
     ]
    }
   ],
   "source": [
    "from sklearn.feature_selection import SelectKBest\n",
    "from sklearn.feature_selection import chi2\n",
    "from sklearn.feature_selection import f_classif\n",
    "\n",
    "X=k[['Duration', 'Age','Net Sales']]\n",
    "y=k[['Commision (in value)']]\n",
    "\n",
    "\n",
    "\n",
    "chi2_selector = SelectKBest(chi2, k=2)\n",
    "kBest = chi2_selector.fit_transform(X,y)\n",
    "\n",
    "chi2_scores = pd.DataFrame(list(zip(j.features_names, chi2_selector.scores_)),column=['features','score'])\n",
    "chi2_scores\n",
    "\n",
    "print('number of original features: ',X.shape[1])\n",
    "print('number of reduced features: ',kBest.shape[1])"
   ]
  },
  {
   "cell_type": "code",
   "execution_count": 74,
   "id": "301b13f5",
   "metadata": {},
   "outputs": [
    {
     "ename": "ValueError",
     "evalue": "Unknown label type: 'continuous'",
     "output_type": "error",
     "traceback": [
      "\u001b[1;31m---------------------------------------------------------------------------\u001b[0m",
      "\u001b[1;31mValueError\u001b[0m                                Traceback (most recent call last)",
      "Input \u001b[1;32mIn [74]\u001b[0m, in \u001b[0;36m<cell line: 4>\u001b[1;34m()\u001b[0m\n\u001b[0;32m      2\u001b[0m features \u001b[38;5;241m=\u001b[39m k[[\u001b[38;5;124m'\u001b[39m\u001b[38;5;124mDuration\u001b[39m\u001b[38;5;124m'\u001b[39m,\u001b[38;5;124m'\u001b[39m\u001b[38;5;124mNet Sales\u001b[39m\u001b[38;5;124m'\u001b[39m,\u001b[38;5;124m'\u001b[39m\u001b[38;5;124mAge\u001b[39m\u001b[38;5;124m'\u001b[39m]] \u001b[38;5;66;03m#continuous\u001b[39;00m\n\u001b[0;32m      3\u001b[0m target \u001b[38;5;241m=\u001b[39m k[[\u001b[38;5;124m'\u001b[39m\u001b[38;5;124mCommision (in value)\u001b[39m\u001b[38;5;124m'\u001b[39m]] \u001b[38;5;66;03m#categorical\u001b[39;00m\n\u001b[1;32m----> 4\u001b[0m features_scores \u001b[38;5;241m=\u001b[39m \u001b[43mmutual_info_classif\u001b[49m\u001b[43m(\u001b[49m\u001b[43mfeatures\u001b[49m\u001b[43m,\u001b[49m\u001b[43mtarget\u001b[49m\u001b[43m,\u001b[49m\u001b[43m \u001b[49m\u001b[43mrandom_state\u001b[49m\u001b[38;5;241;43m=\u001b[39;49m\u001b[38;5;241;43m0\u001b[39;49m\u001b[43m)\u001b[49m\n\u001b[0;32m      5\u001b[0m features_scores\n",
      "File \u001b[1;32m~\\anaconda3\\lib\\site-packages\\sklearn\\feature_selection\\_mutual_info.py:463\u001b[0m, in \u001b[0;36mmutual_info_classif\u001b[1;34m(X, y, discrete_features, n_neighbors, copy, random_state)\u001b[0m\n\u001b[0;32m    387\u001b[0m \u001b[38;5;28;01mdef\u001b[39;00m \u001b[38;5;21mmutual_info_classif\u001b[39m(\n\u001b[0;32m    388\u001b[0m     X, y, \u001b[38;5;241m*\u001b[39m, discrete_features\u001b[38;5;241m=\u001b[39m\u001b[38;5;124m\"\u001b[39m\u001b[38;5;124mauto\u001b[39m\u001b[38;5;124m\"\u001b[39m, n_neighbors\u001b[38;5;241m=\u001b[39m\u001b[38;5;241m3\u001b[39m, copy\u001b[38;5;241m=\u001b[39m\u001b[38;5;28;01mTrue\u001b[39;00m, random_state\u001b[38;5;241m=\u001b[39m\u001b[38;5;28;01mNone\u001b[39;00m\n\u001b[0;32m    389\u001b[0m ):\n\u001b[0;32m    390\u001b[0m     \u001b[38;5;124;03m\"\"\"Estimate mutual information for a discrete target variable.\u001b[39;00m\n\u001b[0;32m    391\u001b[0m \n\u001b[0;32m    392\u001b[0m \u001b[38;5;124;03m    Mutual information (MI) [1]_ between two random variables is a non-negative\u001b[39;00m\n\u001b[1;32m   (...)\u001b[0m\n\u001b[0;32m    461\u001b[0m \u001b[38;5;124;03m           of a Random Vector:, Probl. Peredachi Inf., 23:2 (1987), 9-16\u001b[39;00m\n\u001b[0;32m    462\u001b[0m \u001b[38;5;124;03m    \"\"\"\u001b[39;00m\n\u001b[1;32m--> 463\u001b[0m     \u001b[43mcheck_classification_targets\u001b[49m\u001b[43m(\u001b[49m\u001b[43my\u001b[49m\u001b[43m)\u001b[49m\n\u001b[0;32m    464\u001b[0m     \u001b[38;5;28;01mreturn\u001b[39;00m _estimate_mi(X, y, discrete_features, \u001b[38;5;28;01mTrue\u001b[39;00m, n_neighbors, copy, random_state)\n",
      "File \u001b[1;32m~\\anaconda3\\lib\\site-packages\\sklearn\\utils\\multiclass.py:197\u001b[0m, in \u001b[0;36mcheck_classification_targets\u001b[1;34m(y)\u001b[0m\n\u001b[0;32m    189\u001b[0m y_type \u001b[38;5;241m=\u001b[39m type_of_target(y)\n\u001b[0;32m    190\u001b[0m \u001b[38;5;28;01mif\u001b[39;00m y_type \u001b[38;5;129;01mnot\u001b[39;00m \u001b[38;5;129;01min\u001b[39;00m [\n\u001b[0;32m    191\u001b[0m     \u001b[38;5;124m\"\u001b[39m\u001b[38;5;124mbinary\u001b[39m\u001b[38;5;124m\"\u001b[39m,\n\u001b[0;32m    192\u001b[0m     \u001b[38;5;124m\"\u001b[39m\u001b[38;5;124mmulticlass\u001b[39m\u001b[38;5;124m\"\u001b[39m,\n\u001b[1;32m   (...)\u001b[0m\n\u001b[0;32m    195\u001b[0m     \u001b[38;5;124m\"\u001b[39m\u001b[38;5;124mmultilabel-sequences\u001b[39m\u001b[38;5;124m\"\u001b[39m,\n\u001b[0;32m    196\u001b[0m ]:\n\u001b[1;32m--> 197\u001b[0m     \u001b[38;5;28;01mraise\u001b[39;00m \u001b[38;5;167;01mValueError\u001b[39;00m(\u001b[38;5;124m\"\u001b[39m\u001b[38;5;124mUnknown label type: \u001b[39m\u001b[38;5;132;01m%r\u001b[39;00m\u001b[38;5;124m\"\u001b[39m \u001b[38;5;241m%\u001b[39m y_type)\n",
      "\u001b[1;31mValueError\u001b[0m: Unknown label type: 'continuous'"
     ]
    }
   ],
   "source": [
    "from sklearn.feature_selection import mutual_info_classif\n",
    "features = k[['Duration','Net Sales','Age']] #continuous\n",
    "target = k[['Commision (in value)']] #categorical\n",
    "features_scores = mutual_info_classif(features,target, random_state=0)\n",
    "features_scores"
   ]
  },
  {
   "cell_type": "code",
   "execution_count": null,
   "id": "1f0df5b6",
   "metadata": {},
   "outputs": [],
   "source": []
  }
 ],
 "metadata": {
  "kernelspec": {
   "display_name": "Python 3 (ipykernel)",
   "language": "python",
   "name": "python3"
  },
  "language_info": {
   "codemirror_mode": {
    "name": "ipython",
    "version": 3
   },
   "file_extension": ".py",
   "mimetype": "text/x-python",
   "name": "python",
   "nbconvert_exporter": "python",
   "pygments_lexer": "ipython3",
   "version": "3.9.12"
  }
 },
 "nbformat": 4,
 "nbformat_minor": 5
}
